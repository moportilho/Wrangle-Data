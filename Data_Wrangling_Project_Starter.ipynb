{
 "cells": [
  {
   "cell_type": "markdown",
   "metadata": {
    "id": "GNIwe5N7s0e_"
   },
   "source": [
    "# Real-world Data Wrangling"
   ]
  },
  {
   "cell_type": "markdown",
   "metadata": {
    "id": "_BG63Tpg8ep_"
   },
   "source": [
    "In this project, you will apply the skills you acquired in the course to gather and wrangle real-world data with two datasets of your choice.\n",
    "\n",
    "You will retrieve and extract the data, assess the data programmatically and visually, accross elements of data quality and structure, and implement a cleaning strategy for the data. You will then store the updated data into your selected database/data store, combine the data, and answer a research question with the datasets.\n",
    "\n",
    "Throughout the process, you are expected to:\n",
    "\n",
    "1. Explain your decisions towards methods used for gathering, assessing, cleaning, storing, and answering the research question\n",
    "2. Write code comments so your code is more readable"
   ]
  },
  {
   "cell_type": "markdown",
   "metadata": {
    "id": "lDYDkH-Zs7Nn"
   },
   "source": [
    "## 1. Gather data\n",
    "\n",
    "In this section, you will extract data using two different data gathering methods and combine the data. Use at least two different types of data-gathering methods."
   ]
  },
  {
   "cell_type": "markdown",
   "metadata": {
    "id": "LbN7z7rcuqpO"
   },
   "source": [
    "### **1.1.** Problem Statement\n",
    "In 2-4 sentences, explain the kind of problem you want to look at and the datasets you will be wrangling for this project."
   ]
  },
  {
   "cell_type": "markdown",
   "metadata": {
    "id": "gi6swhjSYqu2"
   },
   "source": [
    "*FILL IN:* I aim to explore the relationship between air quality and public health in major cities. Specifically, I will analyze how air pollutant levels correlate with the incidence of respiratory diseases. To do this, I will gather datasets on air quality indicators and health metrics from urban areas."
   ]
  },
  {
   "cell_type": "markdown",
   "metadata": {
    "id": "8AQfBAdUypMm"
   },
   "source": [
    "### **1.2.** Gather at least two datasets using two different data gathering methods\n",
    "\n",
    "List of data gathering methods:\n",
    "\n",
    "- Download data manually\n",
    "- Programmatically downloading files\n",
    "- Gather data by accessing APIs\n",
    "- Gather and extract data from HTML files using BeautifulSoup\n",
    "- Extract data from a SQL database\n",
    "\n",
    "Each dataset must have at least two variables, and have greater than 500 data samples within each dataset.\n",
    "\n",
    "For each dataset, briefly describe why you picked the dataset and the gathering method (2-3 full sentences), including the names and significance of the variables in the dataset. Show your work (e.g., if using an API to download the data, please include a snippet of your code). \n",
    "\n",
    "Load the dataset programmtically into this notebook."
   ]
  },
  {
   "cell_type": "markdown",
   "metadata": {
    "id": "7e6gS0wL1KTu"
   },
   "source": [
    "#### **Dataset 1**\n",
    "\n",
    "Type: CSV File\n",
    "\n",
    "Method: The data was gathered using \"Programmatically downloading files\" method from the U.S. Government’s open data portal, and the data is from new york air quality.\n",
    "\n",
    "Dataset variables:\n",
    "\n",
    "*   *Variable 1 Data_Value \"Air Quality Index(AQI)\"\n",
    "*   *Variable 2 Date measurement"
   ]
  },
  {
   "cell_type": "code",
   "execution_count": 1,
   "metadata": {
    "id": "Su8E0uLuYkHU"
   },
   "outputs": [],
   "source": [
    "import pandas as pd\n",
    "import numpy as np\n",
    "import matplotlib.pyplot as plt\n",
    "import seaborn as sns\n",
    "\n",
    "csv_url = 'https://data.cityofnewyork.us/api/views/c3uy-2p5r/rows.csv?accessType=DOWNLOAD'\n",
    "df1 = pd.read_csv(csv_url)"
   ]
  },
  {
   "cell_type": "markdown",
   "metadata": {
    "id": "hoUjq1tPzz7P"
   },
   "source": [
    "#### Dataset 2\n",
    "\n",
    "Type: CSV File\n",
    "\n",
    "Method: The data was gathered using \"Programmatically downloading files\" from the CDC Counts of deaths by select causes\n",
    "\n",
    "Dataset variables:\n",
    "\n",
    "*   *Variable 1 Diseases\n",
    "*   *Variable 2 Date"
   ]
  },
  {
   "cell_type": "code",
   "execution_count": 2,
   "metadata": {
    "id": "6zT0QxRyYmm7"
   },
   "outputs": [],
   "source": [
    "csv_url ='https://data.cdc.gov/resource/bxq8-mugm.csv'\n",
    "df2 = pd.read_csv(csv_url)"
   ]
  },
  {
   "cell_type": "markdown",
   "metadata": {
    "id": "QwSWIVmotLgV"
   },
   "source": [
    "## 2. Assess data\n",
    "\n",
    "Assess the data according to data quality and tidiness metrics using the report below.\n",
    "\n",
    "List **two** data quality issues and **two** tidiness issues. Assess each data issue visually **and** programmatically, then briefly describe the issue you find.  **Make sure you include justifications for the methods you use for the assessment.**"
   ]
  },
  {
   "cell_type": "markdown",
   "metadata": {
    "id": "adaK2iPNzVu4"
   },
   "source": [
    "### Quality Issue 1: Missing Values"
   ]
  },
  {
   "cell_type": "code",
   "execution_count": 3,
   "metadata": {
    "id": "SpW59kh-zl8d"
   },
   "outputs": [
    {
     "name": "stdout",
     "output_type": "stream",
     "text": [
      "Unique ID             0\n",
      "Indicator ID          0\n",
      "Name                  0\n",
      "Measure               0\n",
      "Measure Info          0\n",
      "Geo Type Name         0\n",
      "Geo Join ID           0\n",
      "Geo Place Name        0\n",
      "Time Period           0\n",
      "Start_Date            0\n",
      "Data Value            0\n",
      "Message           16218\n",
      "dtype: int64\n",
      "jurisdiction_of_occurrence       0\n",
      "year                             0\n",
      "month                            0\n",
      "all_cause                        0\n",
      "natural_cause                    0\n",
      "septicemia                       0\n",
      "malignant_neoplasms              0\n",
      "diabetes_mellitus                0\n",
      "alzheimer_disease                0\n",
      "influenza_and_pneumonia          0\n",
      "chronic_lower_respiratory        0\n",
      "other_diseases_of_respiratory    0\n",
      "nephritis_nephrotic_syndrom      0\n",
      "symptoms_signs_and_abnormal      0\n",
      "diseases_of_heart                0\n",
      "cerebrovascular_diseases         0\n",
      "accidents_unintentional          0\n",
      "motor_vehicle_accidents          0\n",
      "intentional_self_harm_suicide    0\n",
      "assault_homicide                 0\n",
      "drug_overdose                    0\n",
      "dtype: int64\n"
     ]
    }
   ],
   "source": [
    "# Check for missing values\n",
    "print(df1.isnull().sum())\n",
    "print(df2.isnull().sum())\n",
    "\n",
    "# Fill missing values with appropriate statistics or drop them\n",
    "# Example: Filling with the mean (for numerical data)\n",
    "#df1.fillna(df1.mean(), inplace=True)\n",
    "\n",
    "# Example: Dropping rows with any missing values\n",
    "# df1.dropna(inplace=True)\n",
    "\n",
    "# Example: Filling with a specific value or method (for categorical data)\n",
    "# df2['CategoryColumn'].fillna('Unknown', inplace=True)\n"
   ]
  },
  {
   "cell_type": "code",
   "execution_count": 4,
   "metadata": {
    "id": "-qfcocStzsKg"
   },
   "outputs": [
    {
     "name": "stderr",
     "output_type": "stream",
     "text": [
      "/tmp/ipykernel_33/3865222721.py:1: FutureWarning: The default value of numeric_only in DataFrame.mean is deprecated. In a future version, it will default to False. In addition, specifying 'numeric_only=None' is deprecated. Select only valid columns or specify the value of numeric_only to silence this warning.\n",
      "  df1.fillna(df1.mean(), inplace=True)\n"
     ]
    }
   ],
   "source": [
    "df1.fillna(df1.mean(), inplace=True)"
   ]
  },
  {
   "cell_type": "markdown",
   "metadata": {},
   "source": [
    "Issue and justification: Here's how you can check for missing values and handle them:"
   ]
  },
  {
   "cell_type": "markdown",
   "metadata": {
    "id": "8Be77N4I1AmE"
   },
   "source": [
    "### Quality Issue 2: Inaccurate Data Types"
   ]
  },
  {
   "cell_type": "code",
   "execution_count": 5,
   "metadata": {
    "id": "iMhHyiyLM2I3"
   },
   "outputs": [
    {
     "name": "stdout",
     "output_type": "stream",
     "text": [
      "Unique ID           int64\n",
      "Indicator ID        int64\n",
      "Name               object\n",
      "Measure            object\n",
      "Measure Info       object\n",
      "Geo Type Name      object\n",
      "Geo Join ID         int64\n",
      "Geo Place Name     object\n",
      "Time Period        object\n",
      "Start_Date         object\n",
      "Data Value        float64\n",
      "Message           float64\n",
      "dtype: object\n",
      "jurisdiction_of_occurrence       object\n",
      "year                              int64\n",
      "month                             int64\n",
      "all_cause                         int64\n",
      "natural_cause                     int64\n",
      "septicemia                        int64\n",
      "malignant_neoplasms               int64\n",
      "diabetes_mellitus                 int64\n",
      "alzheimer_disease                 int64\n",
      "influenza_and_pneumonia           int64\n",
      "chronic_lower_respiratory         int64\n",
      "other_diseases_of_respiratory     int64\n",
      "nephritis_nephrotic_syndrom       int64\n",
      "symptoms_signs_and_abnormal       int64\n",
      "diseases_of_heart                 int64\n",
      "cerebrovascular_diseases          int64\n",
      "accidents_unintentional           int64\n",
      "motor_vehicle_accidents           int64\n",
      "intentional_self_harm_suicide     int64\n",
      "assault_homicide                  int64\n",
      "drug_overdose                     int64\n",
      "dtype: object\n"
     ]
    }
   ],
   "source": [
    "print(df1.dtypes)\n",
    "print(df2.dtypes)"
   ]
  },
  {
   "cell_type": "code",
   "execution_count": 6,
   "metadata": {
    "id": "bnviRCUI-bb7"
   },
   "outputs": [],
   "source": [
    "# Convert data types\n",
    "# Example: Converting 'Date' to datetime\n",
    "#df1['Date'] = pd.to_datetime(df1['Start_Date'])\n",
    "#df2['Date'] = pd.to_datetime(df2['year'].astype(str) + '-' + df2['month'].astype(str) + '-01')\n",
    "\n",
    "#df2['Total_Respiratory_Cases'] = df2[['influenza_and_pneumonia', \n",
    "                                      #'chronic_lower_respiratory', \n",
    "                                      #'other_diseases_of_respiratory']].sum(axis=1)\n",
    "\n",
    "# Example: Converting 'Total_Respiratory_Cases' to integer\n",
    "#df2['Total_Respiratory_Cases'] = df2['Total_Respiratory_Cases'].astype(int)"
   ]
  },
  {
   "cell_type": "markdown",
   "metadata": {},
   "source": [
    "Issue and justification: Ensure that each column in your datasets has the correct data type for analysis."
   ]
  },
  {
   "cell_type": "markdown",
   "metadata": {
    "id": "lXhGiYyiwwKN"
   },
   "source": [
    "### Tidiness Issue 1: Unnecessary Variables"
   ]
  },
  {
   "cell_type": "code",
   "execution_count": 7,
   "metadata": {
    "id": "fleC5rORI0Xl"
   },
   "outputs": [
    {
     "name": "stdout",
     "output_type": "stream",
     "text": [
      "<class 'pandas.core.frame.DataFrame'>\n",
      "RangeIndex: 16218 entries, 0 to 16217\n",
      "Data columns (total 12 columns):\n",
      " #   Column          Non-Null Count  Dtype  \n",
      "---  ------          --------------  -----  \n",
      " 0   Unique ID       16218 non-null  int64  \n",
      " 1   Indicator ID    16218 non-null  int64  \n",
      " 2   Name            16218 non-null  object \n",
      " 3   Measure         16218 non-null  object \n",
      " 4   Measure Info    16218 non-null  object \n",
      " 5   Geo Type Name   16218 non-null  object \n",
      " 6   Geo Join ID     16218 non-null  int64  \n",
      " 7   Geo Place Name  16218 non-null  object \n",
      " 8   Time Period     16218 non-null  object \n",
      " 9   Start_Date      16218 non-null  object \n",
      " 10  Data Value      16218 non-null  float64\n",
      " 11  Message         0 non-null      float64\n",
      "dtypes: float64(2), int64(3), object(7)\n",
      "memory usage: 1.5+ MB\n",
      "<class 'pandas.core.frame.DataFrame'>\n",
      "RangeIndex: 72 entries, 0 to 71\n",
      "Data columns (total 21 columns):\n",
      " #   Column                         Non-Null Count  Dtype \n",
      "---  ------                         --------------  ----- \n",
      " 0   jurisdiction_of_occurrence     72 non-null     object\n",
      " 1   year                           72 non-null     int64 \n",
      " 2   month                          72 non-null     int64 \n",
      " 3   all_cause                      72 non-null     int64 \n",
      " 4   natural_cause                  72 non-null     int64 \n",
      " 5   septicemia                     72 non-null     int64 \n",
      " 6   malignant_neoplasms            72 non-null     int64 \n",
      " 7   diabetes_mellitus              72 non-null     int64 \n",
      " 8   alzheimer_disease              72 non-null     int64 \n",
      " 9   influenza_and_pneumonia        72 non-null     int64 \n",
      " 10  chronic_lower_respiratory      72 non-null     int64 \n",
      " 11  other_diseases_of_respiratory  72 non-null     int64 \n",
      " 12  nephritis_nephrotic_syndrom    72 non-null     int64 \n",
      " 13  symptoms_signs_and_abnormal    72 non-null     int64 \n",
      " 14  diseases_of_heart              72 non-null     int64 \n",
      " 15  cerebrovascular_diseases       72 non-null     int64 \n",
      " 16  accidents_unintentional        72 non-null     int64 \n",
      " 17  motor_vehicle_accidents        72 non-null     int64 \n",
      " 18  intentional_self_harm_suicide  72 non-null     int64 \n",
      " 19  assault_homicide               72 non-null     int64 \n",
      " 20  drug_overdose                  72 non-null     int64 \n",
      "dtypes: int64(20), object(1)\n",
      "memory usage: 11.9+ KB\n"
     ]
    }
   ],
   "source": [
    "df1.info()\n",
    "df2.info()\n"
   ]
  },
  {
   "cell_type": "code",
   "execution_count": 8,
   "metadata": {
    "id": "BTuQw7Rbsio4"
   },
   "outputs": [],
   "source": [
    "# Drop unnecessary columns\n",
    "#df1.drop(columns=['Unique ID', 'Indicator ID', 'Name', 'Measure', 'Measure Info', 'Geo Type Name', 'Geo Join ID', 'Geo Place Name', 'Time Period' , 'Message' ], inplace=True)\n",
    "#df2.drop(columns=['jurisdiction_of_occurrence','all_cause','natural_cause', 'septicemia', 'malignant_neoplasms','diabetes_mellitus', 'alzheimer_disease', 'nephritis_nephrotic_syndrom', 'symptoms_signs_and_abnormal',\n",
    "       #'diseases_of_heart', 'cerebrovascular_diseases',\n",
    "#       'accidents_unintentional', 'motor_vehicle_accidents',\n",
    "#       'intentional_self_harm_suicide', 'assault_homicide', 'drug_overdose'], inplace=True)\n"
   ]
  },
  {
   "cell_type": "markdown",
   "metadata": {},
   "source": [
    "Issue and justification: Remove any variables that are not necessary for your analysis to reduce complexity."
   ]
  },
  {
   "cell_type": "markdown",
   "metadata": {
    "id": "4ffMoRGSwzYj"
   },
   "source": [
    "### Tidiness Issue 2: Separate Tables"
   ]
  },
  {
   "cell_type": "code",
   "execution_count": 9,
   "metadata": {
    "id": "XUpeoqokw5Qt"
   },
   "outputs": [
    {
     "name": "stdout",
     "output_type": "stream",
     "text": [
      "<class 'pandas.core.frame.DataFrame'>\n",
      "RangeIndex: 16218 entries, 0 to 16217\n",
      "Data columns (total 12 columns):\n",
      " #   Column          Non-Null Count  Dtype  \n",
      "---  ------          --------------  -----  \n",
      " 0   Unique ID       16218 non-null  int64  \n",
      " 1   Indicator ID    16218 non-null  int64  \n",
      " 2   Name            16218 non-null  object \n",
      " 3   Measure         16218 non-null  object \n",
      " 4   Measure Info    16218 non-null  object \n",
      " 5   Geo Type Name   16218 non-null  object \n",
      " 6   Geo Join ID     16218 non-null  int64  \n",
      " 7   Geo Place Name  16218 non-null  object \n",
      " 8   Time Period     16218 non-null  object \n",
      " 9   Start_Date      16218 non-null  object \n",
      " 10  Data Value      16218 non-null  float64\n",
      " 11  Message         0 non-null      float64\n",
      "dtypes: float64(2), int64(3), object(7)\n",
      "memory usage: 1.5+ MB\n",
      "<class 'pandas.core.frame.DataFrame'>\n",
      "RangeIndex: 72 entries, 0 to 71\n",
      "Data columns (total 21 columns):\n",
      " #   Column                         Non-Null Count  Dtype \n",
      "---  ------                         --------------  ----- \n",
      " 0   jurisdiction_of_occurrence     72 non-null     object\n",
      " 1   year                           72 non-null     int64 \n",
      " 2   month                          72 non-null     int64 \n",
      " 3   all_cause                      72 non-null     int64 \n",
      " 4   natural_cause                  72 non-null     int64 \n",
      " 5   septicemia                     72 non-null     int64 \n",
      " 6   malignant_neoplasms            72 non-null     int64 \n",
      " 7   diabetes_mellitus              72 non-null     int64 \n",
      " 8   alzheimer_disease              72 non-null     int64 \n",
      " 9   influenza_and_pneumonia        72 non-null     int64 \n",
      " 10  chronic_lower_respiratory      72 non-null     int64 \n",
      " 11  other_diseases_of_respiratory  72 non-null     int64 \n",
      " 12  nephritis_nephrotic_syndrom    72 non-null     int64 \n",
      " 13  symptoms_signs_and_abnormal    72 non-null     int64 \n",
      " 14  diseases_of_heart              72 non-null     int64 \n",
      " 15  cerebrovascular_diseases       72 non-null     int64 \n",
      " 16  accidents_unintentional        72 non-null     int64 \n",
      " 17  motor_vehicle_accidents        72 non-null     int64 \n",
      " 18  intentional_self_harm_suicide  72 non-null     int64 \n",
      " 19  assault_homicide               72 non-null     int64 \n",
      " 20  drug_overdose                  72 non-null     int64 \n",
      "dtypes: int64(20), object(1)\n",
      "memory usage: 11.9+ KB\n"
     ]
    }
   ],
   "source": [
    "df1.info()\n",
    "df2.info()"
   ]
  },
  {
   "cell_type": "code",
   "execution_count": 10,
   "metadata": {
    "id": "c8JK4DoXxtFA"
   },
   "outputs": [],
   "source": [
    "#combined_df = pd.merge(df1, df2, on='Date', how='inner')"
   ]
  },
  {
   "cell_type": "markdown",
   "metadata": {},
   "source": [
    "Issue and justification: Combine datasets into a single dataset if they share a common key to make analysis more straightforward."
   ]
  },
  {
   "cell_type": "markdown",
   "metadata": {
    "id": "D6gmLnBttpCh"
   },
   "source": [
    "## 3. Clean data\n",
    "Clean the data to solve the 4 issues corresponding to data quality and tidiness found in the assessing step. **Make sure you include justifications for your cleaning decisions.**\n",
    "\n",
    "After the cleaning for each issue, please use **either** the visually or programatical method to validate the cleaning was succesful.\n",
    "\n",
    "At this stage, you are also expected to remove variables that are unnecessary for your analysis and combine your datasets. Depending on your datasets, you may choose to perform variable combination and elimination before or after the cleaning stage. Your dataset must have **at least** 4 variables after combining the data."
   ]
  },
  {
   "cell_type": "code",
   "execution_count": 11,
   "metadata": {},
   "outputs": [],
   "source": [
    "df1_clean = df1.copy()\n",
    "df2_clean = df2.copy()"
   ]
  },
  {
   "cell_type": "markdown",
   "metadata": {
    "id": "FmFhN52Yyn3l"
   },
   "source": [
    "### **Quality Issue 1: Missing Values**"
   ]
  },
  {
   "cell_type": "code",
   "execution_count": 12,
   "metadata": {
    "id": "9UejDWrNMW4a"
   },
   "outputs": [],
   "source": [
    "df1_clean['Data Value'].fillna(df1_clean['Data Value'].mean(), inplace=True)"
   ]
  },
  {
   "cell_type": "code",
   "execution_count": 13,
   "metadata": {
    "id": "oUBee-LPytkv"
   },
   "outputs": [
    {
     "data": {
      "text/plain": [
       "<bound method DataFrame.info of        Unique ID  Indicator ID                                         Name  \\\n",
       "0         172653           375                       Nitrogen dioxide (NO2)   \n",
       "1         172585           375                       Nitrogen dioxide (NO2)   \n",
       "2         336637           375                       Nitrogen dioxide (NO2)   \n",
       "3         336622           375                       Nitrogen dioxide (NO2)   \n",
       "4         172582           375                       Nitrogen dioxide (NO2)   \n",
       "...          ...           ...                                          ...   \n",
       "16213     130750           647            Outdoor Air Toxics - Formaldehyde   \n",
       "16214     130780           647            Outdoor Air Toxics - Formaldehyde   \n",
       "16215     131020           652  Cardiac and respiratory deaths due to Ozone   \n",
       "16216     131026           652  Cardiac and respiratory deaths due to Ozone   \n",
       "16217     325247           643                Annual vehicle miles traveled   \n",
       "\n",
       "                            Measure Measure Info Geo Type Name  Geo Join ID  \\\n",
       "0                              Mean          ppb         UHF34          203   \n",
       "1                              Mean          ppb         UHF34          203   \n",
       "2                              Mean          ppb         UHF34          204   \n",
       "3                              Mean          ppb         UHF34          103   \n",
       "4                              Mean          ppb         UHF34          104   \n",
       "...                             ...          ...           ...          ...   \n",
       "16213  Annual average concentration        µg/m3         UHF42          211   \n",
       "16214  Annual average concentration        µg/m3       Borough            5   \n",
       "16215         Estimated annual rate  per 100,000         UHF42          504   \n",
       "16216         Estimated annual rate  per 100,000       Borough            5   \n",
       "16217                 million miles      per km2            CD          107   \n",
       "\n",
       "                           Geo Place Name          Time Period  Start_Date  \\\n",
       "0      Bedford Stuyvesant - Crown Heights  Annual Average 2011  12/01/2010   \n",
       "1      Bedford Stuyvesant - Crown Heights  Annual Average 2009  12/01/2008   \n",
       "2                           East New York  Annual Average 2015  01/01/2015   \n",
       "3                      Fordham - Bronx Pk  Annual Average 2015  01/01/2015   \n",
       "4                    Pelham - Throgs Neck  Annual Average 2009  12/01/2008   \n",
       "...                                   ...                  ...         ...   \n",
       "16213             Williamsburg - Bushwick                 2005  01/01/2005   \n",
       "16214                       Staten Island                 2005  01/01/2005   \n",
       "16215           South Beach - Tottenville            2005-2007  01/01/2005   \n",
       "16216                       Staten Island            2005-2007  01/01/2005   \n",
       "16217               Upper West Side (CD7)                 2016  01/01/2016   \n",
       "\n",
       "       Data Value  Message  \n",
       "0           25.30      NaN  \n",
       "1           26.93      NaN  \n",
       "2           19.09      NaN  \n",
       "3           19.76      NaN  \n",
       "4           22.83      NaN  \n",
       "...           ...      ...  \n",
       "16213        3.10      NaN  \n",
       "16214        2.30      NaN  \n",
       "16215        7.50      NaN  \n",
       "16216        7.80      NaN  \n",
       "16217       50.00      NaN  \n",
       "\n",
       "[16218 rows x 12 columns]>"
      ]
     },
     "execution_count": 13,
     "metadata": {},
     "output_type": "execute_result"
    }
   ],
   "source": [
    "df1_clean.info"
   ]
  },
  {
   "cell_type": "markdown",
   "metadata": {},
   "source": [
    "Justification: Missing values are imputed with the mean to maintain the dataset's integrity without introducing bias."
   ]
  },
  {
   "cell_type": "markdown",
   "metadata": {
    "id": "n_DAUbJrymBL"
   },
   "source": [
    "### **Quality Issue 2: Inaccurate Data Types**"
   ]
  },
  {
   "cell_type": "code",
   "execution_count": 14,
   "metadata": {
    "id": "5Yfb-Yu5MTuE"
   },
   "outputs": [],
   "source": [
    "# Convert data types\n",
    "# Example: Converting 'Date' to datetime\n",
    "df1_clean['Date'] = pd.to_datetime(df1_clean['Start_Date'])\n",
    "df2_clean['Date'] = pd.to_datetime(df2_clean['year'].astype(str) + '-' + df2_clean['month'].astype(str) + '-01')\n",
    "\n",
    "df2_clean['Total_Respiratory_Cases'] = df2_clean[['influenza_and_pneumonia', \n",
    "                                      'chronic_lower_respiratory', \n",
    "                                      'other_diseases_of_respiratory']].sum(axis=1)\n",
    "\n",
    "# Example: Converting 'Total_Respiratory_Cases' to integer\n",
    "df2_clean['Total_Respiratory_Cases'] = df2_clean['Total_Respiratory_Cases'].astype(int)"
   ]
  },
  {
   "cell_type": "code",
   "execution_count": 15,
   "metadata": {
    "id": "ionB2sRaMUmY"
   },
   "outputs": [
    {
     "data": {
      "text/plain": [
       "<bound method DataFrame.info of    jurisdiction_of_occurrence  year  month  all_cause  natural_cause  \\\n",
       "0               United States  2014      1     243298         226621   \n",
       "1               United States  2015      1     265355         247269   \n",
       "2               United States  2016      1     245823         227341   \n",
       "3               United States  2017      1     262832         241918   \n",
       "4               United States  2018      1     286744         265418   \n",
       "..                        ...   ...    ...        ...            ...   \n",
       "67              United States  2015     12     233735         215657   \n",
       "68              United States  2016     12     249207         228888   \n",
       "69              United States  2017     12     258657         237819   \n",
       "70              United States  2018     12     249280         229184   \n",
       "71              United States  2019     12     255975         234438   \n",
       "\n",
       "    septicemia  malignant_neoplasms  diabetes_mellitus  alzheimer_disease  \\\n",
       "0         3944                51101               7344               8305   \n",
       "1         4194                52346               8053              11638   \n",
       "2         3846                51863               7392              10612   \n",
       "3         4089                52120               7907              12018   \n",
       "4         4502                52876               8674              13410   \n",
       "..         ...                  ...                ...                ...   \n",
       "67        3517                50462               6860              10112   \n",
       "68        3714                51428               7446              11277   \n",
       "69        3859                52001               7983              11751   \n",
       "70        3620                51622               7663              10950   \n",
       "71        3584                50878               8092              11511   \n",
       "\n",
       "    influenza_and_pneumonia  ...  symptoms_signs_and_abnormal  \\\n",
       "0                      7929  ...                         2815   \n",
       "1                     10005  ...                         3005   \n",
       "2                      5295  ...                         2755   \n",
       "3                      6925  ...                         2769   \n",
       "4                     12164  ...                         3138   \n",
       "..                      ...  ...                          ...   \n",
       "67                     4449  ...                         3211   \n",
       "68                     4981  ...                         3465   \n",
       "69                     6058  ...                         3317   \n",
       "70                     4489  ...                         3104   \n",
       "71                     4776  ...                         3273   \n",
       "\n",
       "    diseases_of_heart  cerebrovascular_diseases  accidents_unintentional  \\\n",
       "0               58229                     12074                    11461   \n",
       "1               63190                     13576                    12311   \n",
       "2               58049                     12968                    12559   \n",
       "3               61650                     13595                    14520   \n",
       "4               67024                     14653                    14748   \n",
       "..                ...                       ...                      ...   \n",
       "67              55220                     12260                    12389   \n",
       "68              58572                     13320                    14363   \n",
       "69              60902                     13740                    14728   \n",
       "70              58613                     13111                    13851   \n",
       "71              59663                     13683                    15139   \n",
       "\n",
       "    motor_vehicle_accidents  intentional_self_harm_suicide  assault_homicide  \\\n",
       "0                      2572                           3320              1213   \n",
       "1                      2754                           3618              1437   \n",
       "2                      2734                           3720              1499   \n",
       "3                      3034                           3709              1726   \n",
       "4                      3010                           3966              1674   \n",
       "..                      ...                            ...               ...   \n",
       "67                     3245                           3469              1568   \n",
       "68                     3330                           3397              1609   \n",
       "69                     3391                           3629              1580   \n",
       "70                     3181                           3713              1556   \n",
       "71                     3228                           3702              1715   \n",
       "\n",
       "    drug_overdose       Date  Total_Respiratory_Cases  \n",
       "0            4026 2014-01-01                    26473  \n",
       "1            4354 2015-01-01                    30571  \n",
       "2            4631 2016-01-01                    23331  \n",
       "3            6233 2017-01-01                    27582  \n",
       "4            5659 2018-01-01                    35038  \n",
       "..            ...        ...                      ...  \n",
       "67           4246 2015-12-01                    20995  \n",
       "68           5829 2016-12-01                    22777  \n",
       "69           5799 2017-12-01                    24874  \n",
       "70           5551 2018-12-01                    22297  \n",
       "71           6299 2019-12-01                    23105  \n",
       "\n",
       "[72 rows x 23 columns]>"
      ]
     },
     "execution_count": 15,
     "metadata": {},
     "output_type": "execute_result"
    }
   ],
   "source": [
    "df1_clean.info\n",
    "df2_clean.info"
   ]
  },
  {
   "cell_type": "markdown",
   "metadata": {},
   "source": [
    "Justification: Data types are corrected to facilitate proper temporal analysis."
   ]
  },
  {
   "cell_type": "code",
   "execution_count": 16,
   "metadata": {},
   "outputs": [
    {
     "data": {
      "text/plain": [
       "Index(['Unique ID', 'Indicator ID', 'Name', 'Measure', 'Measure Info',\n",
       "       'Geo Type Name', 'Geo Join ID', 'Geo Place Name', 'Time Period',\n",
       "       'Start_Date', 'Data Value', 'Message', 'Date'],\n",
       "      dtype='object')"
      ]
     },
     "execution_count": 16,
     "metadata": {},
     "output_type": "execute_result"
    }
   ],
   "source": [
    "df1_clean.columns"
   ]
  },
  {
   "cell_type": "code",
   "execution_count": 17,
   "metadata": {},
   "outputs": [
    {
     "data": {
      "text/plain": [
       "Index(['jurisdiction_of_occurrence', 'year', 'month', 'all_cause',\n",
       "       'natural_cause', 'septicemia', 'malignant_neoplasms',\n",
       "       'diabetes_mellitus', 'alzheimer_disease', 'influenza_and_pneumonia',\n",
       "       'chronic_lower_respiratory', 'other_diseases_of_respiratory',\n",
       "       'nephritis_nephrotic_syndrom', 'symptoms_signs_and_abnormal',\n",
       "       'diseases_of_heart', 'cerebrovascular_diseases',\n",
       "       'accidents_unintentional', 'motor_vehicle_accidents',\n",
       "       'intentional_self_harm_suicide', 'assault_homicide', 'drug_overdose',\n",
       "       'Date', 'Total_Respiratory_Cases'],\n",
       "      dtype='object')"
      ]
     },
     "execution_count": 17,
     "metadata": {},
     "output_type": "execute_result"
    }
   ],
   "source": [
    "df2_clean.columns"
   ]
  },
  {
   "cell_type": "markdown",
   "metadata": {
    "id": "bIUrrfSNyOPR"
   },
   "source": [
    "### **Tidiness Issue 1: Unnecessary Variables**"
   ]
  },
  {
   "cell_type": "code",
   "execution_count": 18,
   "metadata": {
    "id": "fib0zAm333bn"
   },
   "outputs": [],
   "source": [
    "\n",
    "#Drop unnecessary columns\n",
    "df1_clean.drop(columns=['Unique ID', 'Indicator ID', 'Name', 'Measure', 'Measure Info', 'Geo Type Name', 'Geo Join ID', 'Geo Place Name', 'Time Period' , 'Message' ], inplace=True)\n",
    "#df2_clean.drop(columns=['jurisdiction_of_occurrence','all_cause','natural_cause', 'septicemia', 'malignant_neoplasms','diabetes_mellitus', 'alzheimer_disease', 'nephritis_nephrotic_syndrom', 'symptoms_signs_and_abnormal',\n",
    "       #'diseases_of_heart', 'cerebrovascular_diseases',\n",
    "       #'accidents_unintentional', 'motor_vehicle_accidents',\n",
    "       #'intentional_self_harm_suicide', 'assault_homicide', 'drug_overdose'], inplace=True)\n",
    "\n",
    "# Assuming df2 contains separate columns for each disease count, which is a tidiness issue\n",
    "# Convert the wide format of diseases into a long format with 'Disease' and 'Count' columns\n",
    "\n",
    "# Let's gather all the disease columns into a list (replace this list with actual disease column names)\n",
    "disease_columns = ['influenza_and_pneumonia', 'chronic_lower_respiratory', 'other_diseases_of_respiratory']  # and so on for all diseases\n",
    "\n",
    "# Melt the df2_clean to have 'Disease' and 'Count' columns instead of separate columns for each disease\n",
    "df2_clean = pd.melt(df2_clean, id_vars=['year', 'month', 'Date'], \n",
    "                    value_vars=disease_columns, \n",
    "                    var_name='Disease', \n",
    "                    value_name='Count')"
   ]
  },
  {
   "cell_type": "code",
   "execution_count": 19,
   "metadata": {
    "id": "yhrnUGY_Nk8B"
   },
   "outputs": [
    {
     "name": "stdout",
     "output_type": "stream",
     "text": [
      "   Start_Date  Data Value       Date\n",
      "0  12/01/2010       25.30 2010-12-01\n",
      "1  12/01/2008       26.93 2008-12-01\n",
      "2  01/01/2015       19.09 2015-01-01\n",
      "3  01/01/2015       19.76 2015-01-01\n",
      "4  12/01/2008       22.83 2008-12-01\n",
      "   year  month       Date                  Disease  Count\n",
      "0  2014      1 2014-01-01  influenza_and_pneumonia   7929\n",
      "1  2015      1 2015-01-01  influenza_and_pneumonia  10005\n",
      "2  2016      1 2016-01-01  influenza_and_pneumonia   5295\n",
      "3  2017      1 2017-01-01  influenza_and_pneumonia   6925\n",
      "4  2018      1 2018-01-01  influenza_and_pneumonia  12164\n"
     ]
    }
   ],
   "source": [
    "df1_clean.info\n",
    "df2_clean.info\n",
    "\n",
    "print(df1_clean.head())\n",
    "print(df2_clean.head())"
   ]
  },
  {
   "cell_type": "code",
   "execution_count": 20,
   "metadata": {},
   "outputs": [
    {
     "data": {
      "text/plain": [
       "Index(['Start_Date', 'Data Value', 'Date'], dtype='object')"
      ]
     },
     "execution_count": 20,
     "metadata": {},
     "output_type": "execute_result"
    }
   ],
   "source": [
    "df1_clean.columns"
   ]
  },
  {
   "cell_type": "code",
   "execution_count": 21,
   "metadata": {},
   "outputs": [
    {
     "data": {
      "text/plain": [
       "Index(['year', 'month', 'Date', 'Disease', 'Count'], dtype='object')"
      ]
     },
     "execution_count": 21,
     "metadata": {},
     "output_type": "execute_result"
    }
   ],
   "source": [
    "df2_clean.columns"
   ]
  },
  {
   "cell_type": "markdown",
   "metadata": {},
   "source": [
    "Justification: Unnecessary variables are removed to focus the analysis on relevant data."
   ]
  },
  {
   "cell_type": "markdown",
   "metadata": {
    "id": "o51Bt8kwyTzk"
   },
   "source": [
    "### **Tidiness Issue 2: Separate Tables**"
   ]
  },
  {
   "cell_type": "code",
   "execution_count": 22,
   "metadata": {
    "id": "7zW8O5yx4Y9O"
   },
   "outputs": [],
   "source": [
    "combined_df = pd.merge(df1_clean, df2_clean, on='Date', how='inner')"
   ]
  },
  {
   "cell_type": "code",
   "execution_count": 23,
   "metadata": {
    "id": "q6I_Sr7lxXi5"
   },
   "outputs": [
    {
     "data": {
      "text/plain": [
       "<bound method DataFrame.info of        Start_Date  Data Value       Date  year  month  \\\n",
       "0      01/01/2015       19.09 2015-01-01  2015      1   \n",
       "1      01/01/2015       19.09 2015-01-01  2015      1   \n",
       "2      01/01/2015       19.09 2015-01-01  2015      1   \n",
       "3      01/01/2015       19.76 2015-01-01  2015      1   \n",
       "4      01/01/2015       19.76 2015-01-01  2015      1   \n",
       "...           ...         ...        ...   ...    ...   \n",
       "19192  01/01/2014        1.61 2014-01-01  2014      1   \n",
       "19193  01/01/2014        1.61 2014-01-01  2014      1   \n",
       "19194  01/01/2014        1.61 2014-01-01  2014      1   \n",
       "19195  01/01/2014        1.61 2014-01-01  2014      1   \n",
       "19196  01/01/2014        1.61 2014-01-01  2014      1   \n",
       "\n",
       "                             Disease  Count  \n",
       "0            influenza_and_pneumonia  10005  \n",
       "1          chronic_lower_respiratory  16769  \n",
       "2      other_diseases_of_respiratory   3797  \n",
       "3            influenza_and_pneumonia  10005  \n",
       "4          chronic_lower_respiratory  16769  \n",
       "...                              ...    ...  \n",
       "19192      chronic_lower_respiratory  15078  \n",
       "19193  other_diseases_of_respiratory   3466  \n",
       "19194        influenza_and_pneumonia   7929  \n",
       "19195      chronic_lower_respiratory  15078  \n",
       "19196  other_diseases_of_respiratory   3466  \n",
       "\n",
       "[19197 rows x 7 columns]>"
      ]
     },
     "execution_count": 23,
     "metadata": {},
     "output_type": "execute_result"
    }
   ],
   "source": [
    "combined_df.info"
   ]
  },
  {
   "cell_type": "markdown",
   "metadata": {},
   "source": [
    "Justification: Datasets are combined on a common key (Date) for a comprehensive analysis."
   ]
  },
  {
   "cell_type": "markdown",
   "metadata": {},
   "source": [
    "### **Remove unnecessary variables and combine datasets**\n",
    "\n",
    "Depending on the datasets, you can also peform the combination before the cleaning steps."
   ]
  },
  {
   "cell_type": "code",
   "execution_count": 24,
   "metadata": {},
   "outputs": [],
   "source": [
    "#FILL IN - Remove unnecessary variables and combine datasets"
   ]
  },
  {
   "cell_type": "markdown",
   "metadata": {
    "id": "F42urHuzttjF"
   },
   "source": [
    "## 4. Update your data store\n",
    "Update your local database/data store with the cleaned data, following best practices for storing your cleaned data:\n",
    "\n",
    "- Must maintain different instances / versions of data (raw and cleaned data)\n",
    "- Must name the dataset files informatively\n",
    "- Ensure both the raw and cleaned data is saved to your database/data store"
   ]
  },
  {
   "cell_type": "code",
   "execution_count": 25,
   "metadata": {
    "id": "V3uay7EJUV_L"
   },
   "outputs": [],
   "source": [
    "df1.to_csv('air_quality_data.csv', index=False)\n",
    "df2.to_csv('health_data.csv', index=False)\n",
    "df1_clean.to_csv('cleaned_air_quality_data.csv', index=False)\n",
    "df2_clean.to_csv('cleaned_health_data.csv', index=False)\n",
    "combined_df.to_csv('combined_cleaned_data.csv', index=False)"
   ]
  },
  {
   "cell_type": "markdown",
   "metadata": {
    "id": "cGy_yddGtzhM"
   },
   "source": [
    "## 5. Answer the research question\n",
    "\n",
    "### **5.1:** Define and answer the research question \n",
    "Going back to the problem statement in step 1, use the cleaned data to answer the question you raised. Produce **at least** two visualizations using the cleaned data and explain how they help you answer the question."
   ]
  },
  {
   "cell_type": "markdown",
   "metadata": {
    "id": "gjedE4s4ZkEd"
   },
   "source": [
    "*Research question:* The total cases of respiratory diseases by the air quality"
   ]
  },
  {
   "cell_type": "code",
   "execution_count": 26,
   "metadata": {
    "id": "Lkw3rW9kZmOm"
   },
   "outputs": [
    {
     "data": {
      "image/png": "[encoded data removed]",
      "text/plain": [
       "<Figure size 1000x600 with 1 Axes>"
      ]
     },
     "metadata": {},
     "output_type": "display_data"
    }
   ],
   "source": [
    "# Visualization of AQI vs Respiratory Cases\n",
    "plt.figure(figsize=(10,6))\n",
    "sns.scatterplot(x='Data Value', y='Disease', data=combined_df)\n",
    "plt.title('AQI vs Respiratory Cases')\n",
    "plt.xlabel('AQI')\n",
    "plt.ylabel('Respiratory Cases')\n",
    "plt.show()"
   ]
  },
  {
   "cell_type": "markdown",
   "metadata": {},
   "source": [
    "*Answer to research question:* \n",
    "- The horizontal x-axis represents the AQI, which is an index for reporting daily air quality. It tells you how clean or polluted your air is, and what associated health effects might be a concern. The AQI in this plot ranges from 0 to over 250.\n",
    "- The vertical y-axis represents the number of respiratory cases, presumably in a certain location or across multiple locations. This number ranges from about 17,500 to 35,000 cases.\n",
    "- Each point on the plot represents a particular combination of AQI and the number of respiratory cases on a given day or period."
   ]
  },
  {
   "cell_type": "code",
   "execution_count": 27,
   "metadata": {
    "id": "6fdK_8ZGZm9R"
   },
   "outputs": [
    {
     "data": {
      "image/png": "[encoded data removed]",
      "text/plain": [
       "<Figure size 1000x600 with 1 Axes>"
      ]
     },
     "metadata": {},
     "output_type": "display_data"
    }
   ],
   "source": [
    "# Visualization of Time Series of AQI\n",
    "plt.figure(figsize=(10,6))\n",
    "sns.lineplot(x='Date', y='Data Value', data=combined_df)\n",
    "plt.title('Time Series of AQI')\n",
    "plt.xlabel('Date')\n",
    "plt.ylabel('AQI')\n",
    "plt.show()"
   ]
  },
  {
   "cell_type": "markdown",
   "metadata": {
    "id": "K5RgvMGUZoHn"
   },
   "source": [
    "*Answer to research question:* \n",
    "- The horizontal x-axis represents time, specifically years from 2014 through 2020.\n",
    "- The vertical y-axis represents the AQI values, which appear to range from approximately 0 to 25.\n",
    "- The line itself indicates the AQI at different points in time, and the shaded area around the line could represent the confidence interval or range of variation around the mean AQI value for those times."
   ]
  },
  {
   "cell_type": "markdown",
   "metadata": {
    "id": "0ezWXXZVj-TP"
   },
   "source": [
    "### **5.2:** Reflection\n",
    "In 2-4 sentences, if you had more time to complete the project, what actions would you take? For example, which data quality and structural issues would you look into further, and what research questions would you further explore?"
   ]
  },
  {
   "cell_type": "markdown",
   "metadata": {
    "id": "XB3RBDG5kFe1"
   },
   "source": [
    "*Answer:* If I had more time to complete the project, I would investigate the outliers and anomalies in the data to understand their origins and impacts on the analysis. Additionally, I would explore the possibility of seasonal trends or patterns in the AQI and respiratory case data, potentially enriching the dataset with meteorological and geographical information to provide more context to the observed trends. Finally, I would formulate and test hypotheses regarding the causality between air quality and health outcomes, using more sophisticated statistical models and possibly expanding the scope to include more diverse datasets from different regions and time periods.\n",
    "\n",
    "\n",
    "\n",
    "\n",
    "\n",
    "\n"
   ]
  },
  {
   "cell_type": "code",
   "execution_count": 28,
   "metadata": {},
   "outputs": [
    {
     "name": "stdout",
     "output_type": "stream",
     "text": [
      "[NbConvertApp] Converting notebook Data_Wrangling_Project_Starter.ipynb to html\n",
      "[NbConvertApp] Writing 775622 bytes to Data_Wrangling_Project_Starter.html\n"
     ]
    }
   ],
   "source": [
    "!jupyter nbconvert --to html Data_Wrangling_Project_Starter.ipynb"
   ]
  },
  {
   "cell_type": "code",
   "execution_count": null,
   "metadata": {},
   "outputs": [],
   "source": []
  }
 ],
 "metadata": {
  "colab": {
   "provenance": []
  },
  "kernelspec": {
   "display_name": "Python 3 (ipykernel)",
   "language": "python",
   "name": "python3"
  },
  "language_info": {
   "codemirror_mode": {
    "name": "ipython",
    "version": 3
   },
   "file_extension": ".py",
   "mimetype": "text/x-python",
   "name": "python",
   "nbconvert_exporter": "python",
   "pygments_lexer": "ipython3",
   "version": "3.10.10"
  }
 },
 "nbformat": 4,
 "nbformat_minor": 1
}
